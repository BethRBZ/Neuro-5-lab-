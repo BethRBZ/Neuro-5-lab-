{
  "nbformat": 4,
  "nbformat_minor": 0,
  "metadata": {
    "colab": {
      "name": "NeuroSystem.ipynb",
      "provenance": [],
      "collapsed_sections": [],
      "authorship_tag": "ABX9TyMafIrxGVpg3Z35GSUsS7bA",
      "include_colab_link": true
    },
    "kernelspec": {
      "name": "python3",
      "display_name": "Python 3"
    },
    "language_info": {
      "name": "python"
    }
  },
  "cells": [
    {
      "cell_type": "markdown",
      "metadata": {
        "id": "view-in-github",
        "colab_type": "text"
      },
      "source": [
        "<a href=\"https://colab.research.google.com/github/BethRBZ/Online_store/blob/main/NeuroSystem.ipynb\" target=\"_parent\"><img src=\"https://colab.research.google.com/assets/colab-badge.svg\" alt=\"Open In Colab\"/></a>"
      ]
    },
    {
      "cell_type": "code",
      "metadata": {
        "id": "7xc1WaDa1CXW"
      },
      "source": [
        "import numpy\n",
        "#библиотека scipy.special с сигмоидой expit\n",
        "import matplotlib.pyplot\n",
        "import scipy.special\n",
        "%matplotlib inline\n",
        "\n",
        "class neuralNetwork:\n",
        "\n",
        " \n",
        "  def __init__ (self, inputnodes, hiddennodes, outputnodes, learningrate):\n",
        "    \n",
        "    self.inodes = inputnodes\n",
        "    self.hnodes = hiddennodes\n",
        "    self.onodes = outputnodes\n",
        "    self.lr = learningrate\n",
        "   \n",
        "    self.wih = numpy.random.normal(0.0, pow(self.hnodes, -0.5), \n",
        "                               (self.hnodes, self.inodes))\n",
        "    self.who = numpy.random.normal(0.0, pow(self.onodes, -0.5), \n",
        "                               (self.onodes, self.hnodes))\n",
        "   \n",
        "    self.activation_function = lambda x: scipy.special.expit(x)\n",
        "    pass\n",
        "\n",
        " \n",
        "  def train(self, inputs_list, targets_list):\n",
        "\n",
        "    inputs = numpy.array(inputs_list, ndmin=2).T\n",
        "    targets = numpy.array(targets_list, ndmin=2).T\n",
        "\n",
        "\n",
        "    hidden_inputs = numpy.dot(self.wih, inputs)\n",
        "    \n",
        "    hidden_outputs = self.activation_function(hidden_inputs)\n",
        "\n",
        "\n",
        "    final_inputs = numpy.dot(self.who, hidden_outputs)\n",
        "    \n",
        "    final_outputs = self.activation_function(final_inputs)\n",
        "\n",
        "    output_errors = targets - final_outputs\n",
        "    \n",
        "    hidden_errors = numpy.dot(self.who.T, output_errors)\n",
        "\n",
        "    self.who += self.lr * numpy.dot((output_errors * final_outputs *\n",
        "                (1.0 - final_outputs)), numpy.transpose(hidden_outputs))\n",
        "    \n",
        "    self.wih += self.lr * numpy.dot((hidden_errors * hidden_outputs * \n",
        "                (1.0 - hidden_outputs)), numpy.transpose(inputs))\n",
        "    pass\n",
        "\n",
        "  def query(self, inputs_list):\n",
        "    \n",
        "    inputs = numpy.array(inputs_list, ndmin=2).T\n",
        "\n",
        "\n",
        "    hidden_inputs = numpy.dot(self.wih, inputs)\n",
        "    \n",
        "    hidden_outputs = self.activation_function(hidden_inputs)\n",
        "\n",
        "\n",
        "    final_inputs = numpy.dot(self.who, hidden_outputs)\n",
        "    \n",
        "    final_outputs = self.activation_function(final_inputs)\n",
        "\n",
        "    return final_outputs\n",
        "  pass"
      ],
      "execution_count": null,
      "outputs": []
    },
    {
      "cell_type": "code",
      "metadata": {
        "id": "O2tKdAsr1Loy",
        "colab": {
          "base_uri": "https://localhost:8080/",
          "height": 380
        },
        "outputId": "5389ec85-beaf-4151-bf08-7268a586577a"
      },
      "source": [
        "\n",
        "input_nodes = 784\n",
        "hidden_nodes = 100\n",
        "output_nodes = 10\n",
        "\n",
        "learning_rate = 0.3\n",
        "\n",
        "n = neuralNetwork(input_nodes, hidden_nodes, output_nodes, learning_rate)\n",
        "\n",
        "(x_train, y_train), (x_test, y_test) = mnist.load_data()\n",
        "\n",
        "x_train = (x_train / 255.0 * 0.99) + 0.01 #inputs\n",
        "x_test = (x_test / 255.0 * 0.99) + 0.01\n",
        "\n",
        "y_train_cat = keras.utils.to_categorical(y_train, 10)\n",
        "y_train_cat = y_train_cat.astype('float64')\n",
        "\n",
        "for i in range(len(y_train_cat)):\n",
        "  for j in range(len(y_train_cat[0])):\n",
        "    if y_train_cat[i][j] == 0.0:\n",
        "        y_train_cat[i][j] = 0.01\n",
        "    elif y_train_cat[i][j] == 1.0:\n",
        "        y_train_cat[i][j] = 0.99\n",
        "\n",
        "y_test_cat = keras.utils.to_categorical(y_test, 10)\n",
        "y_test_cat = y_test_cat.astype('float64')\n",
        "for i in range(len(y_test_cat)):\n",
        "  for j in range(len(y_test_cat[0])):\n",
        "    if y_test_cat[i][j] == 0.0:\n",
        "        y_test_cat[i][j] = 0.01\n",
        "    elif y_test_cat[i][j] == 1.0:\n",
        "        y_test_cat[i][j] = 0.99\n",
        "\n",
        "inputs = x_train\n",
        "targets = y_train_cat\n",
        "n.train(inputs, targets)\n",
        "scorecard = []\n",
        "\n",
        "  \n",
        "\n"
      ],
      "execution_count": null,
      "outputs": [
        {
          "output_type": "error",
          "ename": "ValueError",
          "evalue": "ignored",
          "traceback": [
            "\u001b[0;31m---------------------------------------------------------------------------\u001b[0m",
            "\u001b[0;31mValueError\u001b[0m                                Traceback (most recent call last)",
            "\u001b[0;32m<ipython-input-29-0f0f858258a9>\u001b[0m in \u001b[0;36m<module>\u001b[0;34m()\u001b[0m\n\u001b[1;32m     41\u001b[0m \u001b[0minputs\u001b[0m \u001b[0;34m=\u001b[0m \u001b[0mx_train\u001b[0m\u001b[0;34m\u001b[0m\u001b[0;34m\u001b[0m\u001b[0m\n\u001b[1;32m     42\u001b[0m \u001b[0mtargets\u001b[0m \u001b[0;34m=\u001b[0m \u001b[0my_train_cat\u001b[0m\u001b[0;34m\u001b[0m\u001b[0;34m\u001b[0m\u001b[0m\n\u001b[0;32m---> 43\u001b[0;31m \u001b[0mn\u001b[0m\u001b[0;34m.\u001b[0m\u001b[0mtrain\u001b[0m\u001b[0;34m(\u001b[0m\u001b[0minputs\u001b[0m\u001b[0;34m,\u001b[0m \u001b[0mtargets\u001b[0m\u001b[0;34m)\u001b[0m\u001b[0;34m\u001b[0m\u001b[0;34m\u001b[0m\u001b[0m\n\u001b[0m\u001b[1;32m     44\u001b[0m \u001b[0;31m#журнал оценок работы сети (пока пустой)\u001b[0m\u001b[0;34m\u001b[0m\u001b[0;34m\u001b[0m\u001b[0;34m\u001b[0m\u001b[0m\n\u001b[1;32m     45\u001b[0m \u001b[0mscorecard\u001b[0m \u001b[0;34m=\u001b[0m \u001b[0;34m[\u001b[0m\u001b[0;34m]\u001b[0m\u001b[0;34m\u001b[0m\u001b[0;34m\u001b[0m\u001b[0m\n",
            "\u001b[0;32m<ipython-input-28-55f75b12bb8b>\u001b[0m in \u001b[0;36mtrain\u001b[0;34m(self, inputs_list, targets_list)\u001b[0m\n\u001b[1;32m     34\u001b[0m \u001b[0;34m\u001b[0m\u001b[0m\n\u001b[1;32m     35\u001b[0m     \u001b[0;31m#рассчитать входные сигналы для скрытого слоя\u001b[0m\u001b[0;34m\u001b[0m\u001b[0;34m\u001b[0m\u001b[0;34m\u001b[0m\u001b[0m\n\u001b[0;32m---> 36\u001b[0;31m     \u001b[0mhidden_inputs\u001b[0m \u001b[0;34m=\u001b[0m \u001b[0mnumpy\u001b[0m\u001b[0;34m.\u001b[0m\u001b[0mdot\u001b[0m\u001b[0;34m(\u001b[0m\u001b[0mself\u001b[0m\u001b[0;34m.\u001b[0m\u001b[0mwih\u001b[0m\u001b[0;34m,\u001b[0m \u001b[0minputs\u001b[0m\u001b[0;34m)\u001b[0m\u001b[0;34m\u001b[0m\u001b[0;34m\u001b[0m\u001b[0m\n\u001b[0m\u001b[1;32m     37\u001b[0m     \u001b[0;31m#рассчитать исходящие сигналы для скрытого слоя\u001b[0m\u001b[0;34m\u001b[0m\u001b[0;34m\u001b[0m\u001b[0;34m\u001b[0m\u001b[0m\n\u001b[1;32m     38\u001b[0m     \u001b[0mhidden_outputs\u001b[0m \u001b[0;34m=\u001b[0m \u001b[0mself\u001b[0m\u001b[0;34m.\u001b[0m\u001b[0mactivation_function\u001b[0m\u001b[0;34m(\u001b[0m\u001b[0mhidden_inputs\u001b[0m\u001b[0;34m)\u001b[0m\u001b[0;34m\u001b[0m\u001b[0;34m\u001b[0m\u001b[0m\n",
            "\u001b[0;32m<__array_function__ internals>\u001b[0m in \u001b[0;36mdot\u001b[0;34m(*args, **kwargs)\u001b[0m\n",
            "\u001b[0;31mValueError\u001b[0m: shapes (100,784) and (28,28,60000) not aligned: 784 (dim 1) != 28 (dim 1)"
          ]
        }
      ]
    },
    {
      "cell_type": "code",
      "metadata": {
        "id": "x0A6I7lTfnig"
      },
      "source": [
        "\n",
        "matplotlib.pyplot.figure(figsize=(10,5))\n",
        "numberofNumber = 1\n",
        "matplotlib.pyplot.subplot = (5, 5, numberofNumber)\n",
        "matplotlib.pyplot.xticks([])\n",
        "matplotlib.pyplot.yticks([])\n",
        "matplotlib.pyplot.imshow(x_train[numberofNumber], \n",
        "                         cmap=matplotlib.pyplot.cm.binary)\n",
        "matplotlib.pyplot.show()"
      ],
      "execution_count": null,
      "outputs": []
    }
  ]
}